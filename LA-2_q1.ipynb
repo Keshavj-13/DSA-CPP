{
 "cells": [
  {
   "cell_type": "code",
   "execution_count": 6,
   "id": "3ff4a41e",
   "metadata": {
    "vscode": {
     "languageId": "cpp"
    }
   },
   "outputs": [],
   "source": [
    "#include <iostream>\n",
    "using namespace std;"
   ]
  },
  {
   "cell_type": "code",
   "execution_count": 10,
   "id": "d6f59240",
   "metadata": {
    "vscode": {
     "languageId": "cpp"
    }
   },
   "outputs": [],
   "source": [
    "int bins(int *arr, int tar, int left,int right){\n",
    "    if(right<left){\n",
    "        return -1;\n",
    "    }\n",
    "    int mid = (left+right)/2;\n",
    "    if(arr[mid]==tar){\n",
    "        return mid;\n",
    "    }\n",
    "    if(arr[mid]>tar){\n",
    "        bins(arr,tar,left,mid-1);\n",
    "    }\n",
    "    return bins(arr,tar,mid+1,right);\n",
    "}"
   ]
  },
  {
   "cell_type": "code",
   "execution_count": 12,
   "id": "25f5f7d7",
   "metadata": {
    "vscode": {
     "languageId": "cpp"
    }
   },
   "outputs": [
    {
     "name": "stdout",
     "output_type": "stream",
     "text": [
      "2"
     ]
    }
   ],
   "source": [
    "int n = 6;\n",
    "int arr[6] = {1,2,3,4,5,6};\n",
    "int tar = 3;\n",
    "int a = bins(arr,tar,0,n-1);\n",
    "cout << a;\n",
    "return 0;"
   ]
  }
 ],
 "metadata": {
  "kernelspec": {
   "display_name": "C++17",
   "language": "C++17",
   "name": "xcpp17"
  },
  "language_info": {
   "codemirror_mode": "text/x-c++src",
   "file_extension": ".cpp",
   "mimetype": "text/x-c++src",
   "name": "c++",
   "version": "17"
  }
 },
 "nbformat": 4,
 "nbformat_minor": 5
}
