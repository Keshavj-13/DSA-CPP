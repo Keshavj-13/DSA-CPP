{
 "cells": [
  {
   "cell_type": "code",
   "execution_count": 3,
   "id": "dc649c50",
   "metadata": {
    "vscode": {
     "languageId": "cpp"
    }
   },
   "outputs": [],
   "source": [
    "#include <iostream>\n",
    "using namespace std;"
   ]
  },
  {
   "cell_type": "code",
   "execution_count": 10,
   "id": "7fe3853c",
   "metadata": {
    "vscode": {
     "languageId": "cpp"
    }
   },
   "outputs": [],
   "source": [
    "void bubblesort(int arr[], int n){\n",
    "    for(int i = 0; i < n ; i++){\n",
    "        for(int j =  0; j < n - i - 1; j++){\n",
    "            if(arr[j] > arr[j + 1]){\n",
    "                int temp = arr[j];\n",
    "                arr[j] = arr[j+1];\n",
    "                arr[j + 1] = temp;\n",
    "            }\n",
    "        }\n",
    "    }\n",
    "}"
   ]
  },
  {
   "cell_type": "code",
   "execution_count": 11,
   "id": "52b7391f",
   "metadata": {
    "vscode": {
     "languageId": "cpp"
    }
   },
   "outputs": [
    {
     "name": "stdout",
     "output_type": "stream",
     "text": [
      "1 2 3 4 5 6 "
     ]
    }
   ],
   "source": [
    "int n = 6;\n",
    "int arr[6] = {1,2,3,4,5,6};\n",
    "bubblesort(arr,n);\n",
    "for(int i = 0; i<n; i++){\n",
    "    cout<<arr[i]<<\" \";\n",
    "}\n",
    "return 0;"
   ]
  }
 ],
 "metadata": {
  "kernelspec": {
   "display_name": "C++17",
   "language": "C++17",
   "name": "xcpp17"
  },
  "language_info": {
   "codemirror_mode": "text/x-c++src",
   "file_extension": ".cpp",
   "mimetype": "text/x-c++src",
   "name": "c++",
   "version": "17"
  }
 },
 "nbformat": 4,
 "nbformat_minor": 5
}
